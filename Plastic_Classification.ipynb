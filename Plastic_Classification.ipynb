{
  "nbformat": 4,
  "nbformat_minor": 0,
  "metadata": {
    "colab": {
      "name": "Plastic Classification.ipynb",
      "provenance": [],
      "collapsed_sections": []
    },
    "kernelspec": {
      "name": "python3",
      "display_name": "Python 3"
    },
    "language_info": {
      "name": "python"
    }
  },
  "cells": [
    {
      "cell_type": "markdown",
      "metadata": {
        "id": "auXtuHkGX4Zn"
      },
      "source": [
        "# Imports"
      ]
    },
    {
      "cell_type": "code",
      "metadata": {
        "id": "FMjlcOiWulsm"
      },
      "source": [
        "import pandas as pd"
      ],
      "execution_count": null,
      "outputs": []
    },
    {
      "cell_type": "markdown",
      "metadata": {
        "id": "-xCXcJFSX6TQ"
      },
      "source": [
        "# Data Collection"
      ]
    },
    {
      "cell_type": "code",
      "metadata": {
        "id": "09HLkyVhuvyP",
        "colab": {
          "base_uri": "https://localhost:8080/"
        },
        "outputId": "928bd544-670a-4fe6-e318-692407190455"
      },
      "source": [
        "!wget https://nkb-backend-otg-media-static.s3.ap-south-1.amazonaws.com/otg_prod/media/Tech_4.0/AI_ML/CCBP_Platform_Projects/Plastic_Classification/train_X_pc.csv\n",
        "!wget https://nkb-backend-otg-media-static.s3.ap-south-1.amazonaws.com/otg_prod/media/Tech_4.0/AI_ML/CCBP_Platform_Projects/Plastic_Classification/train_Y_pc.csv\n",
        "!wget https://nkb-backend-otg-media-static.s3.ap-south-1.amazonaws.com/otg_prod/media/Tech_4.0/AI_ML/CCBP_Platform_Projects/Plastic_Classification/test_X_pc.csv"
      ],
      "execution_count": null,
      "outputs": [
        {
          "output_type": "stream",
          "name": "stdout",
          "text": [
            "--2021-09-16 16:37:21--  https://nkb-backend-otg-media-static.s3.ap-south-1.amazonaws.com/otg_prod/media/Tech_4.0/AI_ML/CCBP_Platform_Projects/Plastic_Classification/train_X_pc.csv\n",
            "Resolving nkb-backend-otg-media-static.s3.ap-south-1.amazonaws.com (nkb-backend-otg-media-static.s3.ap-south-1.amazonaws.com)... 52.219.66.111\n",
            "Connecting to nkb-backend-otg-media-static.s3.ap-south-1.amazonaws.com (nkb-backend-otg-media-static.s3.ap-south-1.amazonaws.com)|52.219.66.111|:443... connected.\n",
            "HTTP request sent, awaiting response... 200 OK\n",
            "Length: 9950 (9.7K) [text/csv]\n",
            "Saving to: ‘train_X_pc.csv’\n",
            "\n",
            "train_X_pc.csv      100%[===================>]   9.72K  --.-KB/s    in 0s      \n",
            "\n",
            "2021-09-16 16:37:22 (126 MB/s) - ‘train_X_pc.csv’ saved [9950/9950]\n",
            "\n",
            "--2021-09-16 16:37:22--  https://nkb-backend-otg-media-static.s3.ap-south-1.amazonaws.com/otg_prod/media/Tech_4.0/AI_ML/CCBP_Platform_Projects/Plastic_Classification/train_Y_pc.csv\n",
            "Resolving nkb-backend-otg-media-static.s3.ap-south-1.amazonaws.com (nkb-backend-otg-media-static.s3.ap-south-1.amazonaws.com)... 52.219.66.111\n",
            "Connecting to nkb-backend-otg-media-static.s3.ap-south-1.amazonaws.com (nkb-backend-otg-media-static.s3.ap-south-1.amazonaws.com)|52.219.66.111|:443... connected.\n",
            "HTTP request sent, awaiting response... 200 OK\n",
            "Length: 480 [text/csv]\n",
            "Saving to: ‘train_Y_pc.csv’\n",
            "\n",
            "train_Y_pc.csv      100%[===================>]     480  --.-KB/s    in 0s      \n",
            "\n",
            "2021-09-16 16:37:22 (33.8 MB/s) - ‘train_Y_pc.csv’ saved [480/480]\n",
            "\n",
            "--2021-09-16 16:37:22--  https://nkb-backend-otg-media-static.s3.ap-south-1.amazonaws.com/otg_prod/media/Tech_4.0/AI_ML/CCBP_Platform_Projects/Plastic_Classification/test_X_pc.csv\n",
            "Resolving nkb-backend-otg-media-static.s3.ap-south-1.amazonaws.com (nkb-backend-otg-media-static.s3.ap-south-1.amazonaws.com)... 52.219.66.111\n",
            "Connecting to nkb-backend-otg-media-static.s3.ap-south-1.amazonaws.com (nkb-backend-otg-media-static.s3.ap-south-1.amazonaws.com)|52.219.66.111|:443... connected.\n",
            "HTTP request sent, awaiting response... 200 OK\n",
            "Length: 3358 (3.3K) [text/csv]\n",
            "Saving to: ‘test_X_pc.csv’\n",
            "\n",
            "test_X_pc.csv       100%[===================>]   3.28K  --.-KB/s    in 0s      \n",
            "\n",
            "2021-09-16 16:37:23 (70.8 MB/s) - ‘test_X_pc.csv’ saved [3358/3358]\n",
            "\n"
          ]
        }
      ]
    },
    {
      "cell_type": "code",
      "metadata": {
        "id": "HoJx-RR61Sk2"
      },
      "source": [
        "train_X_df = pd.read_csv('train_X_pc.csv')\n",
        "train_Y_df = pd.read_csv('train_Y_pc.csv', header=None).squeeze()\n",
        "test_X_df = pd.read_csv('test_X_pc.csv')"
      ],
      "execution_count": null,
      "outputs": []
    },
    {
      "cell_type": "markdown",
      "metadata": {
        "id": "CXMWtQ3mZ45m"
      },
      "source": [
        "# Understanding Data"
      ]
    },
    {
      "cell_type": "code",
      "metadata": {
        "id": "b3zEjIS2Z8_A",
        "colab": {
          "base_uri": "https://localhost:8080/"
        },
        "outputId": "96d62ca7-daaa-43e9-840c-a8a71929fff9"
      },
      "source": [
        "train_X_df.info()"
      ],
      "execution_count": null,
      "outputs": [
        {
          "output_type": "stream",
          "name": "stdout",
          "text": [
            "<class 'pandas.core.frame.DataFrame'>\n",
            "RangeIndex: 160 entries, 0 to 159\n",
            "Data columns (total 7 columns):\n",
            " #   Column    Non-Null Count  Dtype  \n",
            "---  ------    --------------  -----  \n",
            " 0   Chlorine  160 non-null    float64\n",
            " 1   Hardness  160 non-null    float64\n",
            " 2   Hydrogen  160 non-null    float64\n",
            " 3   Sulphur   160 non-null    float64\n",
            " 4   Carbon    160 non-null    float64\n",
            " 5   Oxygen    160 non-null    float64\n",
            " 6   Nitrogen  160 non-null    float64\n",
            "dtypes: float64(7)\n",
            "memory usage: 8.9 KB\n"
          ]
        }
      ]
    },
    {
      "cell_type": "code",
      "metadata": {
        "colab": {
          "base_uri": "https://localhost:8080/",
          "height": 203
        },
        "id": "aMzKDL0Nzuig",
        "outputId": "a5766402-c180-4e97-f08f-598fa97b0617"
      },
      "source": [
        "train_X_df.head()"
      ],
      "execution_count": null,
      "outputs": [
        {
          "output_type": "execute_result",
          "data": {
            "text/html": [
              "<div>\n",
              "<style scoped>\n",
              "    .dataframe tbody tr th:only-of-type {\n",
              "        vertical-align: middle;\n",
              "    }\n",
              "\n",
              "    .dataframe tbody tr th {\n",
              "        vertical-align: top;\n",
              "    }\n",
              "\n",
              "    .dataframe thead th {\n",
              "        text-align: right;\n",
              "    }\n",
              "</style>\n",
              "<table border=\"1\" class=\"dataframe\">\n",
              "  <thead>\n",
              "    <tr style=\"text-align: right;\">\n",
              "      <th></th>\n",
              "      <th>Chlorine</th>\n",
              "      <th>Hardness</th>\n",
              "      <th>Hydrogen</th>\n",
              "      <th>Sulphur</th>\n",
              "      <th>Carbon</th>\n",
              "      <th>Oxygen</th>\n",
              "      <th>Nitrogen</th>\n",
              "    </tr>\n",
              "  </thead>\n",
              "  <tbody>\n",
              "    <tr>\n",
              "      <th>0</th>\n",
              "      <td>11.044</td>\n",
              "      <td>10.455700</td>\n",
              "      <td>14.047</td>\n",
              "      <td>10.165</td>\n",
              "      <td>31.585</td>\n",
              "      <td>12.700</td>\n",
              "      <td>10.405</td>\n",
              "    </tr>\n",
              "    <tr>\n",
              "      <th>1</th>\n",
              "      <td>10.000</td>\n",
              "      <td>10.453963</td>\n",
              "      <td>13.900</td>\n",
              "      <td>11.863</td>\n",
              "      <td>31.210</td>\n",
              "      <td>12.079</td>\n",
              "      <td>10.906</td>\n",
              "    </tr>\n",
              "    <tr>\n",
              "      <th>2</th>\n",
              "      <td>11.179</td>\n",
              "      <td>10.455400</td>\n",
              "      <td>14.113</td>\n",
              "      <td>10.162</td>\n",
              "      <td>31.543</td>\n",
              "      <td>12.508</td>\n",
              "      <td>10.462</td>\n",
              "    </tr>\n",
              "    <tr>\n",
              "      <th>3</th>\n",
              "      <td>10.534</td>\n",
              "      <td>10.454839</td>\n",
              "      <td>14.392</td>\n",
              "      <td>10.000</td>\n",
              "      <td>31.930</td>\n",
              "      <td>12.601</td>\n",
              "      <td>10.537</td>\n",
              "    </tr>\n",
              "    <tr>\n",
              "      <th>4</th>\n",
              "      <td>10.000</td>\n",
              "      <td>10.458217</td>\n",
              "      <td>13.306</td>\n",
              "      <td>10.000</td>\n",
              "      <td>31.924</td>\n",
              "      <td>14.488</td>\n",
              "      <td>10.225</td>\n",
              "    </tr>\n",
              "  </tbody>\n",
              "</table>\n",
              "</div>"
            ],
            "text/plain": [
              "   Chlorine   Hardness  Hydrogen  Sulphur  Carbon  Oxygen  Nitrogen\n",
              "0    11.044  10.455700    14.047   10.165  31.585  12.700    10.405\n",
              "1    10.000  10.453963    13.900   11.863  31.210  12.079    10.906\n",
              "2    11.179  10.455400    14.113   10.162  31.543  12.508    10.462\n",
              "3    10.534  10.454839    14.392   10.000  31.930  12.601    10.537\n",
              "4    10.000  10.458217    13.306   10.000  31.924  14.488    10.225"
            ]
          },
          "metadata": {},
          "execution_count": 5
        }
      ]
    },
    {
      "cell_type": "code",
      "metadata": {
        "colab": {
          "base_uri": "https://localhost:8080/"
        },
        "id": "kuBrC-xLz2HN",
        "outputId": "63c08404-7321-40e4-a731-1dca994a9d76"
      },
      "source": [
        "train_Y_df.head()"
      ],
      "execution_count": null,
      "outputs": [
        {
          "output_type": "execute_result",
          "data": {
            "text/plain": [
              "0    1\n",
              "1    4\n",
              "2    2\n",
              "3    6\n",
              "4    2\n",
              "Name: 0, dtype: int64"
            ]
          },
          "metadata": {},
          "execution_count": 6
        }
      ]
    },
    {
      "cell_type": "markdown",
      "metadata": {
        "id": "-wrDdV-Qdwfo"
      },
      "source": [
        "# Implementation"
      ]
    },
    {
      "cell_type": "code",
      "metadata": {
        "id": "Z4RWn21_0IhK"
      },
      "source": [
        "from sklearn.pipeline import Pipeline\n",
        "from sklearn.linear_model import LogisticRegression\n",
        "from sklearn.neighbors import KNeighborsClassifier\n",
        "from sklearn.preprocessing import MinMaxScaler, StandardScaler, RobustScaler\n",
        "from sklearn.model_selection import GridSearchCV\n",
        "\n",
        "pipe = Pipeline(steps=[('scaler', RobustScaler()),\n",
        "                       ('classifier', LogisticRegression(solver='sag', max_iter=2000))])"
      ],
      "execution_count": null,
      "outputs": []
    },
    {
      "cell_type": "code",
      "metadata": {
        "colab": {
          "base_uri": "https://localhost:8080/"
        },
        "id": "6D8JnmF_2GxD",
        "outputId": "c1f60786-c632-40a7-83b1-5fead449cb70"
      },
      "source": [
        "param_distributions = [\n",
        "              {\n",
        "                'scaler': [StandardScaler(), MinMaxScaler(), RobustScaler(), 'passthrough'],\n",
        "                'classifier': [LogisticRegression(solver='lbfgs', max_iter=15000)],\n",
        "                'classifier__penalty': ['l2', 'none'],\n",
        "                'classifier__multi_class': ['ovr', 'multinomial', 'auto']\n",
        "              },\n",
        "              {\n",
        "                'scaler': [StandardScaler(), MinMaxScaler(), RobustScaler(), 'passthrough'],\n",
        "                'classifier': [KNeighborsClassifier()],\n",
        "                'classifier__n_neighbors': range(1,20),\n",
        "                'classifier__p': [1, 2, 3, 4]\n",
        "              }\n",
        "            ]\n",
        "\n",
        "grid_search_cv = GridSearchCV(pipe, param_grid=param_distributions, scoring='f1_weighted', refit=True, cv=5) \n",
        "grid_search_cv.fit(train_X_df, train_Y_df)\n",
        "print(grid_search_cv.best_params_)"
      ],
      "execution_count": null,
      "outputs": [
        {
          "output_type": "stream",
          "name": "stdout",
          "text": [
            "{'classifier': KNeighborsClassifier(algorithm='auto', leaf_size=30, metric='minkowski',\n",
            "                     metric_params=None, n_jobs=None, n_neighbors=1, p=1,\n",
            "                     weights='uniform'), 'classifier__n_neighbors': 1, 'classifier__p': 1, 'scaler': StandardScaler(copy=True, with_mean=True, with_std=True)}\n"
          ]
        }
      ]
    },
    {
      "cell_type": "code",
      "metadata": {
        "colab": {
          "base_uri": "https://localhost:8080/"
        },
        "id": "LK-rv7Je4xjg",
        "outputId": "549bc98a-544c-4793-d299-46e87d3fc28a"
      },
      "source": [
        "grid_search_cv.score(train_X_df, train_Y_df)"
      ],
      "execution_count": null,
      "outputs": [
        {
          "output_type": "execute_result",
          "data": {
            "text/plain": [
              "1.0"
            ]
          },
          "metadata": {},
          "execution_count": 9
        }
      ]
    },
    {
      "cell_type": "code",
      "metadata": {
        "id": "XGyGb72j5K5N"
      },
      "source": [
        "predicted_test_Y = grid_search_cv.predict(test_X_df)\n",
        "test_Y_df = pd.DataFrame(predicted_test_Y)"
      ],
      "execution_count": null,
      "outputs": []
    },
    {
      "cell_type": "markdown",
      "metadata": {
        "id": "LS-bO56FMt8p"
      },
      "source": [
        "Writing the predicted values to CSV file"
      ]
    },
    {
      "cell_type": "code",
      "metadata": {
        "id": "ukTLnsCzMwJE"
      },
      "source": [
        "pd.DataFrame(predicted_test_Y).to_csv('predicted_test_Y_pc.csv', header=None, index=False)"
      ],
      "execution_count": null,
      "outputs": []
    }
  ]
}